{
 "cells": [
  {
   "cell_type": "code",
   "execution_count": 1,
   "metadata": {},
   "outputs": [
    {
     "name": "stderr",
     "output_type": "stream",
     "text": [
      "Using TensorFlow backend.\n"
     ]
    }
   ],
   "source": [
    "import numpy as np\n",
    "import os\n",
    "import pandas\n",
    "\n",
    "from keras.models import Sequential\n",
    "from keras.layers import Dense\n",
    "from keras.layers import Dropout \n",
    "from keras.callbacks import ModelCheckpoint \n",
    "from keras.wrappers.scikit_learn import KerasClassifier\n",
    "from keras.utils import np_utils\n",
    "from keras.models import model_from_json\n",
    "from keras.constraints import maxnorm\n",
    "from keras.optimizers import SGD \n",
    "\n",
    "from sklearn.model_selection import cross_val_score\n",
    "from sklearn.model_selection import KFold\n",
    "from sklearn.model_selection import StratifiedKFold\n",
    "from sklearn import preprocessing\n",
    "from sklearn.pipeline import Pipeline\n",
    "from sklearn.model_selection import train_test_split\n",
    "\n",
    "import matplotlib.pyplot as plt\n",
    "%matplotlib inline"
   ]
  },
  {
   "cell_type": "code",
   "execution_count": 2,
   "metadata": {},
   "outputs": [],
   "source": [
    "from config import csv_config as config\n",
    "dataset_path = config.DATASET_PATH\n",
    "hdf5_path = config.DATASET_HDF5_PATH\n",
    "hdf5_in_sd_path = config.DATASET_IN_SD_HDF5_PATH\n",
    "hdf5_out_sd_path = config.DATASET_OUT_SD_HDF5_PATH"
   ]
  },
  {
   "cell_type": "code",
   "execution_count": 3,
   "metadata": {},
   "outputs": [],
   "source": [
    "seed = 7\n",
    "np.random.seed(seed)"
   ]
  },
  {
   "cell_type": "code",
   "execution_count": 4,
   "metadata": {},
   "outputs": [],
   "source": [
    "dataset = pandas.read_csv(dataset_path)"
   ]
  },
  {
   "cell_type": "code",
   "execution_count": 5,
   "metadata": {},
   "outputs": [
    {
     "name": "stdout",
     "output_type": "stream",
     "text": [
      "field Glucose : num 0-entries: 5\n",
      "field BloodPressure : num 0-entries: 35\n",
      "field SkinThickness : num 0-entries: 227\n",
      "field Insulin : num 0-entries: 374\n",
      "field BMI : num 0-entries: 11\n"
     ]
    }
   ],
   "source": [
    "fields = ['Glucose','BloodPressure','SkinThickness','Insulin','BMI']\n",
    "for field in fields :\n",
    "    print('field %s : num 0-entries: %d' % (field, len(dataset.loc[ dataset[field] == 0, field ])))"
   ]
  },
  {
   "cell_type": "code",
   "execution_count": 6,
   "metadata": {},
   "outputs": [],
   "source": [
    "from helpers import CSVDatasetProcessor\n",
    "data_processor =  CSVDatasetProcessor(dataset, fields)"
   ]
  },
  {
   "cell_type": "code",
   "execution_count": 7,
   "metadata": {},
   "outputs": [
    {
     "name": "stdout",
     "output_type": "stream",
     "text": [
      "Field: Glucose; fixed 5 entries with value: 117.000\n",
      "Field: BloodPressure; fixed 35 entries with value: 72.000\n",
      "Field: SkinThickness; fixed 227 entries with value: 29.000\n",
      "Field: Insulin; fixed 374 entries with value: 125.000\n",
      "Field: BMI; fixed 11 entries with value: 32.300\n"
     ]
    }
   ],
   "source": [
    "data_processor.zero_to_median()"
   ]
  },
  {
   "cell_type": "code",
   "execution_count": 8,
   "metadata": {},
   "outputs": [
    {
     "data": {
      "text/plain": [
       "Pregnancies                    AxesSubplot(0.125,0.657941;0.227941x0.222059)\n",
       "Glucose                     AxesSubplot(0.398529,0.657941;0.227941x0.222059)\n",
       "BloodPressure               AxesSubplot(0.672059,0.657941;0.227941x0.222059)\n",
       "SkinThickness                  AxesSubplot(0.125,0.391471;0.227941x0.222059)\n",
       "Insulin                     AxesSubplot(0.398529,0.391471;0.227941x0.222059)\n",
       "BMI                         AxesSubplot(0.672059,0.391471;0.227941x0.222059)\n",
       "DiabetesPedigreeFunction          AxesSubplot(0.125,0.125;0.227941x0.222059)\n",
       "Age                            AxesSubplot(0.398529,0.125;0.227941x0.222059)\n",
       "Outcome                        AxesSubplot(0.672059,0.125;0.227941x0.222059)\n",
       "dtype: object"
      ]
     },
     "execution_count": 8,
     "metadata": {},
     "output_type": "execute_result"
    },
    {
     "data": {
      "image/png": "[encoded data removed]",
      "text/plain": [
       "<matplotlib.figure.Figure at 0x18aa9401eb8>"
      ]
     },
     "metadata": {},
     "output_type": "display_data"
    }
   ],
   "source": [
    "dataset.plot(kind= 'box' , subplots=True, layout=(3,3), sharex=False, sharey=False, figsize=(10,8))"
   ]
  },
  {
   "cell_type": "code",
   "execution_count": 9,
   "metadata": {},
   "outputs": [],
   "source": [
    "dataset_in_sd = dataset[dataset.apply(lambda x: np.abs(x - x.mean()) / x.std() <= 3).all(axis=1)]\n",
    "dataset_out_sd = dataset.loc[dataset.index.difference(dataset_in_sd.index)]"
   ]
  },
  {
   "cell_type": "code",
   "execution_count": 10,
   "metadata": {},
   "outputs": [
    {
     "name": "stdout",
     "output_type": "stream",
     "text": [
      "Outcome\n",
      "0    476\n",
      "1    242\n",
      "dtype: int64 Outcome\n",
      "0    24\n",
      "1    26\n",
      "dtype: int64\n"
     ]
    }
   ],
   "source": [
    "print(dataset_in_sd.groupby(\"Outcome\").size(), dataset_out_sd.groupby(\"Outcome\").size())"
   ]
  },
  {
   "cell_type": "code",
   "execution_count": 11,
   "metadata": {},
   "outputs": [],
   "source": [
    "from helpers import CSVDatasetWriter, CSVDatasetReader"
   ]
  },
  {
   "cell_type": "code",
   "execution_count": 12,
   "metadata": {},
   "outputs": [
    {
     "name": "stdout",
     "output_type": "stream",
     "text": [
      "Rewrite the data in \"datasets/diabetes/diabetes.h5\".\n",
      "Rewrite the data in \"datasets/diabetes/diabetes_in.h5\".\n",
      "Rewrite the data in \"datasets/diabetes/diabetes_out.h5\".\n"
     ]
    }
   ],
   "source": [
    "writer = CSVDatasetWriter(hdf5_path, dataset)\n",
    "writer.close()\n",
    "writer_in = CSVDatasetWriter(hdf5_in_sd_path, dataset_in_sd)\n",
    "writer_in.close()\n",
    "writer_out = CSVDatasetWriter(hdf5_out_sd_path, dataset_out_sd)\n",
    "writer_out.close()"
   ]
  },
  {
   "cell_type": "code",
   "execution_count": null,
   "metadata": {},
   "outputs": [],
   "source": []
  }
 ],
 "metadata": {
  "kernelspec": {
   "display_name": "Python 3",
   "language": "python",
   "name": "python3"
  },
  "language_info": {
   "codemirror_mode": {
    "name": "ipython",
    "version": 3
   },
   "file_extension": ".py",
   "mimetype": "text/x-python",
   "name": "python",
   "nbconvert_exporter": "python",
   "pygments_lexer": "ipython3",
   "version": "3.5.4"
  }
 },
 "nbformat": 4,
 "nbformat_minor": 2
}
